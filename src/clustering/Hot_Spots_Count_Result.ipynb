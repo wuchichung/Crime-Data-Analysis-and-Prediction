{
 "cells": [
  {
   "cell_type": "code",
   "execution_count": 32,
   "metadata": {},
   "outputs": [
    {
     "data": {
      "application/vnd.jupyter.widget-view+json": {
       "model_id": "7428fdfdcb8945e6946aa6a43d0d41dc",
       "version_major": 2,
       "version_minor": 0
      },
      "text/plain": [
       "Map(center=[40.50212129591837, -74.22480119387754], controls=(ZoomControl(options=['position', 'zoom_in_text',…"
      ]
     },
     "metadata": {},
     "output_type": "display_data"
    }
   ],
   "source": [
    "import pandas as pd\n",
    "from ipyleaflet import Map, basemaps, basemap_to_tiles, Circle\n",
    "from shapely.geometry import Point, Polygon\n",
    "import numpy as np\n",
    "\n",
    "df = pd.read_csv('./Hot_Spots_Count_Result.csv', names=['Latitude', 'Longitude', 'Density'])\n",
    "\n",
    "m = Map(\n",
    "    basemap=basemap_to_tiles(basemaps.OpenStreetMap.BlackAndWhite, \"2017-04-08\"),\n",
    "    center=(df.iloc[0]['Latitude'], df.iloc[0]['Longitude']),\n",
    "    zoom=9\n",
    ")\n",
    "\n",
    "for index, row in df.iterrows():\n",
    "    circle = Circle()\n",
    "    circle.location = (row['Latitude'], row['Longitude'])\n",
    "    circle.radius = int(row['Density']) * 3\n",
    "    circle.color = 'red'\n",
    "    circle.fill_color = 'red'\n",
    "    m.add_layer(circle)\n",
    "\n",
    "m"
   ]
  },
  {
   "cell_type": "code",
   "execution_count": null,
   "metadata": {},
   "outputs": [],
   "source": []
  }
 ],
 "metadata": {
  "kernelspec": {
   "display_name": "Python 3",
   "language": "python",
   "name": "python3"
  },
  "language_info": {
   "codemirror_mode": {
    "name": "ipython",
    "version": 3
   },
   "file_extension": ".py",
   "mimetype": "text/x-python",
   "name": "python",
   "nbconvert_exporter": "python",
   "pygments_lexer": "ipython3",
   "version": "3.8.5"
  }
 },
 "nbformat": 4,
 "nbformat_minor": 4
}
