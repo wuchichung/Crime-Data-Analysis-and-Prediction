{
 "cells": [
  {
   "cell_type": "code",
   "execution_count": 34,
   "metadata": {},
   "outputs": [
    {
     "name": "stderr",
     "output_type": "stream",
     "text": [
      "IOPub message rate exceeded.\n",
      "The notebook server will temporarily stop sending output\n",
      "to the client in order to avoid crashing it.\n",
      "To change this limit, set the config variable\n",
      "`--NotebookApp.iopub_msg_rate_limit`.\n",
      "\n",
      "Current values:\n",
      "NotebookApp.iopub_msg_rate_limit=1000.0 (msgs/sec)\n",
      "NotebookApp.rate_limit_window=3.0 (secs)\n",
      "\n"
     ]
    },
    {
     "data": {
      "application/vnd.jupyter.widget-view+json": {
       "model_id": "b85d5632f4534945bfabe7e38e352713",
       "version_major": 2,
       "version_minor": 0
      },
      "text/plain": [
       "Map(center=[40.685040958, -73.921776995], controls=(ZoomControl(options=['position', 'zoom_in_text', 'zoom_in_…"
      ]
     },
     "metadata": {},
     "output_type": "display_data"
    }
   ],
   "source": [
    "import pandas as pd\n",
    "import random\n",
    "from ipyleaflet import Map, basemaps, basemap_to_tiles, Circle\n",
    "from shapely.geometry import Point, Polygon\n",
    "import numpy as np\n",
    "df = pd.read_csv(\"./NYPD_Complaint_Data_Historic.csv\", nrows=1000)\n",
    "\n",
    "bottomLeft = (40.446927, -74.365192)\n",
    "topLeft = (40.938658, -74.365192)\n",
    "bottomRight = (40.446927, -73.641071)\n",
    "topRight = (40.938658, -73.641071)\n",
    "\n",
    "cols = np.linspace(bottomLeft[1], bottomRight[1], num=10)\n",
    "rows = np.linspace(bottomLeft[0], topLeft[0], num=10)\n",
    "\n",
    "# pCentroids = []\n",
    "# for i, row in enumerate(rows):\n",
    "#     for j, col in enumerate(cols):\n",
    "#         pCentroids.append(Point((row, col)))\n",
    "        \n",
    "# centroids = random.sample(pCentroids, 3)\n",
    "# print(len(centroids))\n",
    "\n",
    "# 40.595231, -74.124360\n",
    "# 40.691403, -73.906963\n",
    "# 40.796549, -73.946916\n",
    "\n",
    "centroids = [Point((40.595231, -74.124360)), Point((40.691403, -73.906963)), Point((40.796549, -73.946916))]\n",
    "\n",
    "m = Map(\n",
    "    basemap=basemap_to_tiles(basemaps.OpenStreetMap.BlackAndWhite, \"2017-04-08\"),\n",
    "    center=(df.iloc[0][\"Latitude\"], df.iloc[0][\"Longitude\"]),\n",
    "    zoom=9\n",
    ")\n",
    "\n",
    "colors = ['red', 'yellow', 'green']\n",
    "for i, centroid in enumerate(centroids):\n",
    "    circle = Circle()\n",
    "    circle.location = (centroid.x, centroid.y)\n",
    "    circle.radius = 10\n",
    "    circle.color = colors[i]\n",
    "    circle.fill_color = colors[i]\n",
    "    m.add_layer(circle)\n",
    "\n",
    "for index, row in df.iterrows():\n",
    "    point = Point((row['Latitude'], row['Longitude']))\n",
    "    clostestCentroid = centroids[0]\n",
    "    clostestDistance = point.distance(centroids[0])\n",
    "    for i, centroid in enumerate(centroids):\n",
    "        distance = point.distance(centroid)\n",
    "        if distance < clostestDistance:\n",
    "            clostestCentroid = centroid\n",
    "            clostestDistance = distance\n",
    "    circle = Circle()\n",
    "    circle.location = (point.x, point.y)\n",
    "    circle.radius = 1\n",
    "    circle.color = colors[centroids.index(clostestCentroid)]\n",
    "    circle.fill_color = colors[centroids.index(clostestCentroid)]\n",
    "    m.add_layer(circle)\n",
    "    \n",
    "m"
   ]
  },
  {
   "cell_type": "code",
   "execution_count": null,
   "metadata": {},
   "outputs": [],
   "source": []
  },
  {
   "cell_type": "code",
   "execution_count": null,
   "metadata": {},
   "outputs": [],
   "source": []
  }
 ],
 "metadata": {
  "kernelspec": {
   "display_name": "Python 3",
   "language": "python",
   "name": "python3"
  },
  "language_info": {
   "codemirror_mode": {
    "name": "ipython",
    "version": 3
   },
   "file_extension": ".py",
   "mimetype": "text/x-python",
   "name": "python",
   "nbconvert_exporter": "python",
   "pygments_lexer": "ipython3",
   "version": "3.8.5"
  }
 },
 "nbformat": 4,
 "nbformat_minor": 4
}
